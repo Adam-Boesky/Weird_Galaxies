{
 "cells": [
  {
   "cell_type": "code",
   "execution_count": 2,
   "metadata": {},
   "outputs": [
    {
     "name": "stderr",
     "output_type": "stream",
     "text": [
      "/Users/adamboesky/opt/anaconda3/envs/lgb2/lib/python3.7/site-packages/lightgbm/__init__.py:48: UserWarning: Starting from version 2.2.1, the library file in distribution wheels for macOS is built by the Apple Clang (Xcode_8.3.3) compiler.\n",
      "This means that in case of installing LightGBM from PyPI via the ``pip install lightgbm`` command, you don't need to install the gcc compiler anymore.\n",
      "Instead of that, you need to install the OpenMP library, which is required for running LightGBM on the system with the Apple Clang compiler.\n",
      "You can install the OpenMP library by the following command: ``brew install libomp``.\n",
      "  \"You can install the OpenMP library by the following command: ``brew install libomp``.\", UserWarning)\n"
     ]
    }
   ],
   "source": [
    "import pickle\n",
    "import numpy as np\n",
    "import lightgbm as lgb\n",
    "from sklearn.metrics import confusion_matrix, f1_score\n",
    "from sklearn.model_selection import StratifiedKFold"
   ]
  },
  {
   "cell_type": "code",
   "execution_count": 3,
   "metadata": {},
   "outputs": [],
   "source": [
    "with open('/Users/adamboesky/Research/ay98/clean_data/gbm_data.pkl', 'rb') as f:\n",
    "    (X_train, y_train, X_test, y_test) = pickle.load(f)"
   ]
  },
  {
   "cell_type": "code",
   "execution_count": 111,
   "metadata": {},
   "outputs": [],
   "source": [
    "params = {\n",
    "    'boosting_type': 'gbdt',\n",
    "    'objective': 'multiclass',\n",
    "    'num_class': 5,  # Specify the number of classes\n",
    "    'metric': 'multi_logloss',\n",
    "    'max_bin': 100,            # ***  [100 ---> 15000]\n",
    "    'num_iterations': 500,      # ***  [400 ---> 1000]\n",
    "    'learning_rate': 0.1,      # ***  [0.1  ---> 0.0001]\n",
    "    'num_leaves': 30            # *** [30 ---> 150]\n",
    "}"
   ]
  },
  {
   "cell_type": "code",
   "execution_count": 112,
   "metadata": {},
   "outputs": [
    {
     "data": {
      "text/plain": [
       "(array([ 200.,  850., 1500.]),\n",
       " array([ 100.,  400.,  700., 1000.]),\n",
       " array([0.0001, 0.001 , 0.01  , 0.1   ]),\n",
       " array([ 30.,  60.,  90., 120., 150.]))"
      ]
     },
     "execution_count": 112,
     "metadata": {},
     "output_type": "execute_result"
    }
   ],
   "source": [
    "max_bins = np.linspace(200, 1500, num=3)\n",
    "num_iters = np.linspace(100, 1000, num=4)\n",
    "lrs = np.logspace(-4, -1, num=4)\n",
    "n_leaves = np.linspace(30, 150, num=5)\n",
    "max_bins, num_iters, lrs, n_leaves"
   ]
  },
  {
   "cell_type": "code",
   "execution_count": 113,
   "metadata": {},
   "outputs": [
    {
     "name": "stderr",
     "output_type": "stream",
     "text": [
      "/Users/adamboesky/opt/anaconda3/envs/lgb2/lib/python3.7/site-packages/lightgbm/engine.py:148: UserWarning: Found `num_iterations` in params. Will use it instead of argument\n",
      "  warnings.warn(\"Found `{}` in params. Will use it instead of argument\".format(alias))\n"
     ]
    }
   ],
   "source": [
    "# K fold confusion matrix\n",
    "kf = StratifiedKFold(n_splits=10, random_state=22, shuffle=True)\n",
    "# two_step_classifier = TwoStepClassifier(ia_thresh=max_thresh)\n",
    "\n",
    "# Initialize a matrix to hold the summed confusion matrix\n",
    "cumulative_cm = np.array([[0 for _ in range(5)] for _ in range(5)])\n",
    "\n",
    "# Initialize lists of the scores for the purity vs. completeness graphs\n",
    "y_tests = []\n",
    "y_proba = []\n",
    "f1_scores = []\n",
    "\n",
    "# X and y set\n",
    "preds = ['$\\\\log(\\\\rm{Separation})$ [$^{\\\\prime\\\\prime}$]', '$\\\\log(M_*) \\\\ [M_\\\\odot]$', '$\\\\log(\\\\rm{SFR}) \\\\ [M_\\\\odot \\\\rm{yr}^{-1}$]', 'Redshift']\n",
    "\n",
    "# Iterate over each fold\n",
    "for train_index, test_index in kf.split(X_train, y_train):\n",
    "\n",
    "    ### NN-INFERRED DATA ###\n",
    "    # Split the data into training and test sets for the current fold\n",
    "    X_train_set, X_val = X_train[train_index], X_train[test_index]\n",
    "    y_train_set, y_val = y_train[train_index], y_train[test_index]\n",
    "    train_set = lgb.Dataset(X_train_set, label=y_train_set)\n",
    "    # val_set = lgb.Dataset(X_val, label=y_val)\n",
    "\n",
    "    # Fit and get confusion matrix\n",
    "    # Non-balanced weights\n",
    "    bst = lgb.train(params=params, train_set=train_set)#, valid_sets=val_set)\n",
    "    y_pred_proba = bst.predict(X_val)\n",
    "    y_pred = np.argmax(y_pred_proba, axis=1)\n",
    "    cumulative_cm += confusion_matrix(y_val, y_pred, labels=[i for i in range(5)])\n",
    "\n",
    "    # Get the info for the purity vs. completeness curve\n",
    "    y_tests.append(y_val)\n",
    "    y_proba.append(y_pred_proba)\n",
    "\n",
    "    # Get the f1 score\n",
    "    f1 = f1_score(y_val, y_pred, average='macro')  # Adjust the 'average' parameter as needed\n",
    "    f1_scores.append(f1)"
   ]
  },
  {
   "cell_type": "code",
   "execution_count": 114,
   "metadata": {},
   "outputs": [
    {
     "data": {
      "text/plain": [
       "array([[5604,   55,    8,   15,  334],\n",
       "       [ 459,   19,    1,    0,   78],\n",
       "       [  73,    0,    0,    1,    5],\n",
       "       [ 211,    1,    0,    5,   15],\n",
       "       [1123,   43,    2,    7,  188]])"
      ]
     },
     "execution_count": 114,
     "metadata": {},
     "output_type": "execute_result"
    }
   ],
   "source": [
    "cumulative_cm"
   ]
  },
  {
   "cell_type": "code",
   "execution_count": null,
   "metadata": {},
   "outputs": [],
   "source": []
  }
 ],
 "metadata": {
  "kernelspec": {
   "display_name": "lgbmtest",
   "language": "python",
   "name": "python3"
  },
  "language_info": {
   "codemirror_mode": {
    "name": "ipython",
    "version": 3
   },
   "file_extension": ".py",
   "mimetype": "text/x-python",
   "name": "python",
   "nbconvert_exporter": "python",
   "pygments_lexer": "ipython3",
   "version": "3.7.16"
  }
 },
 "nbformat": 4,
 "nbformat_minor": 2
}
